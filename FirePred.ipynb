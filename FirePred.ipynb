{
 "cells": [
  {
   "cell_type": "markdown",
   "id": "b84d9e51",
   "metadata": {},
   "source": [
    "# Import necessary libraries"
   ]
  },
  {
   "cell_type": "code",
   "execution_count": 1,
   "id": "2a16bb8d",
   "metadata": {},
   "outputs": [],
   "source": [
    "import tensorflow as tf\n",
    "from tensorflow.keras.layers import concatenate, Input,BatchNormalization,Conv2D,Dropout,MaxPooling2D,LSTM,GRU,RNN,SimpleRNN\n",
    "from tensorflow.keras.layers import Dense,Flatten,Reshape,TimeDistributed\n",
    "from tensorflow.keras.models import Model, Sequential\n",
    "from tensorflow.keras import regularizers\n",
    "from tensorflow import keras\n",
    "from tensorflow.keras import backend as K \n",
    "from tensorflow.keras.layers import TimeDistributed\n",
    "from tensorflow.keras.callbacks import EarlyStopping, ModelCheckpoint\n",
    "\n",
    "import random\n",
    "import numpy as np\n",
    "import os\n",
    "import shutil"
   ]
  },
  {
   "cell_type": "markdown",
   "id": "c7669aef",
   "metadata": {},
   "source": [
    "# Input data"
   ]
  },
  {
   "cell_type": "code",
   "execution_count": 4,
   "id": "0cb51db6",
   "metadata": {},
   "outputs": [
    {
     "name": "stdout",
     "output_type": "stream",
     "text": [
      "Test Len: 302\n",
      "Train Len: 2522\n"
     ]
    }
   ],
   "source": [
    "\n",
    "daily_train_path = 'E:/DeepTests/Data/Train/daily/'\n",
    "daily_train_files = os.listdir(daily_train_path)\n",
    "daily_test_path = 'E:/DeepTests/Data/Test/daily/'\n",
    "daily_test_files = os.listdir(daily_test_path)\n",
    "\n",
    "\n",
    "hourly_train_path = 'E:/DeepTests/Data/Train/hourly/6Hourly/'\n",
    "houly_train_files = os.listdir(hourly_train_path)\n",
    "hourly_test_path = 'E:/DeepTests/Data/Test/hourly/6Hourly/'\n",
    "houly_test_files = os.listdir(hourly_test_path)\n",
    "\n",
    "constant_train_path = 'E:/DeepTests/Data/Train/constant/'\n",
    "constant_train_files = os.listdir(constant_train_path)\n",
    "constant_test_path = 'E:/DeepTests/Data/Test/constant/'\n",
    "constant_test_files = os.listdir(constant_test_path)\n",
    "\n",
    "label_train_path = 'E:/DeepTests/Data/Train/label/'\n",
    "label_train_files = os.listdir(label_train_path)\n",
    "label_test_path = 'E:/DeepTests/Data/Test/label/'\n",
    "label_test_files = os.listdir(label_test_path)\n",
    "\n",
    "print('Test Len:',len(daily_test_files))\n",
    "print('Train Len:',len(daily_train_files))"
   ]
  },
  {
   "cell_type": "markdown",
   "id": "c96738e8",
   "metadata": {},
   "source": [
    "# Matching the input data with labels"
   ]
  },
  {
   "cell_type": "code",
   "execution_count": 5,
   "id": "fde5d044",
   "metadata": {},
   "outputs": [],
   "source": [
    "image_label_map = {\n",
    "        \"Train ({}).npy\".format(i+1): \"Train ({}).npy\".format(i+1)\n",
    "        for i in range(len(daily_train_files))}\n",
    "\n",
    "image_label_map_val = {\n",
    "        \"Test ({}).npy\".format(i+1): \"Test ({}).npy\".format(i+1)\n",
    "        for i in range(len(daily_test_files))}"
   ]
  },
  {
   "cell_type": "markdown",
   "id": "88e7c431",
   "metadata": {},
   "source": [
    "# Data Generator"
   ]
  },
  {
   "cell_type": "code",
   "execution_count": 6,
   "id": "d66f376d",
   "metadata": {},
   "outputs": [],
   "source": [
    "btch=1\n",
    "\n",
    "class DataGenerator(tf.keras.utils.Sequence):\n",
    "  def __init__(self, list_examples, batch_size=btch, dim=(2,400,350),shuffle=False):\n",
    "    # Constructor of the data generator.\n",
    "    self.dim = dim\n",
    "    self.batch_size = batch_size\n",
    "    self.list_examples = list_examples\n",
    "    self.shuffle = shuffle\n",
    "    self.on_epoch_end()\n",
    "\n",
    "  def __len__(self):\n",
    "    # Denotes the number of batches per epoch\n",
    "    return int(np.floor(len(self.list_examples) / self.batch_size))\n",
    "\n",
    "  def __getitem__(self, index):\n",
    "    # Generate one batch of data\n",
    "    indexes = self.indexes[index*self.batch_size:(index+1)*self.batch_size]\n",
    "\n",
    "    # Find list of IDs\n",
    "    list_IDs_temp = [self.list_examples[k] for k in indexes]\n",
    "\n",
    "    # Generate data\n",
    "    X, y = self.__data_generation(list_IDs_temp)\n",
    "\n",
    "    return X, y\n",
    "\n",
    "  def on_epoch_end(self):\n",
    "    # This function is called at the end of each epoch.\n",
    "    self.indexes = np.arange(len(self.list_examples))\n",
    "    if self.shuffle == True:\n",
    "      np.random.shuffle(self.indexes)\n",
    "\n",
    "  def __data_generation(self, list_IDs_temp):\n",
    "    # Load individual numpy arrays and aggregate them to a batch.\n",
    "    \n",
    "    X1 = np.empty([self.batch_size, self.dim[0], self.dim[1],self.dim[2],8],dtype='float32') #Hourly data\n",
    "    X2 = np.empty([self.batch_size, self.dim[0], self.dim[1],self.dim[2],3],dtype='float32') #Daily \n",
    "    X3 = np.empty([self.batch_size, self.dim[1],self.dim[2],5],dtype='float32') #Constant data\n",
    "    # y is a one-hot encoded vector.\n",
    "    y = np.empty([self.batch_size,self.dim[1],self.dim[2],1], dtype=np.float32)\n",
    "\n",
    "    # Generate data.\n",
    "\n",
    "    c=0\n",
    "    for i in list_IDs_temp:\n",
    "        \n",
    "        x_daily_file_path = os.path.join(daily_train_path, i)\n",
    "        y_file_path = os.path.join(label_train_path, image_label_map.get(i))\n",
    "        \n",
    "        x_constant_file_path = os.path.join(constant_train_path, i)\n",
    "        x_houly_file_path = os.path.join(hourly_train_path, i)\n",
    "        # Load sample \n",
    "        X1[c, :,:,:,:] = np.load(x_houly_file_path)\n",
    "        X2[c, :,:,:,:] = np.load(x_daily_file_path)\n",
    "        X3[c,:,:,:] = np.load(x_constant_file_path)\n",
    "        # Load labels     \n",
    "       \n",
    "        y[c,:,:,:] = np.load(y_file_path)\n",
    "        \n",
    "        c=c+1\n",
    "        \n",
    "    return (X1,X2,X3), y\n",
    "\n",
    "\n",
    "\n",
    "class ValDataGenerator(tf.keras.utils.Sequence):\n",
    "  def __init__(self, list_examples, batch_size=btch, dim=(2,400,350),shuffle=False):\n",
    "    # Constructor of the data generator.\n",
    "    self.dim = dim\n",
    "    self.batch_size = batch_size\n",
    "    self.list_examples = list_examples\n",
    "    self.shuffle = shuffle\n",
    "    self.on_epoch_end()\n",
    "\n",
    "  def __len__(self):\n",
    "    # Denotes the number of batches per epoch\n",
    "    return int(np.floor(len(self.list_examples) / self.batch_size))\n",
    "\n",
    "  def __getitem__(self, index):\n",
    "    # Generate one batch of data\n",
    "    indexes = self.indexes[index*self.batch_size:(index+1)*self.batch_size]\n",
    "\n",
    "    # Find list of IDs\n",
    "    list_IDs_temp = [self.list_examples[k] for k in indexes]\n",
    "\n",
    "    # Generate data\n",
    "    X, y = self.__data_generation(list_IDs_temp)\n",
    "\n",
    "    return X, y\n",
    "\n",
    "  def on_epoch_end(self):\n",
    "    # This function is called at the end of each epoch.\n",
    "    self.indexes = np.arange(len(self.list_examples))\n",
    "    if self.shuffle == True:\n",
    "      np.random.shuffle(self.indexes)\n",
    "\n",
    "  def __data_generation(self, list_IDs_temp):\n",
    "    # Load individual numpy arrays and aggregate them to a batch.\n",
    "    \n",
    "    X1 = np.empty([self.batch_size, self.dim[0], self.dim[1],self.dim[2],8],dtype='float32') #Hourly Data\n",
    "    X2 = np.empty([self.batch_size, self.dim[0], self.dim[1],self.dim[2],3],dtype='float32') #Daily Data\n",
    "    X3 = np.empty([self.batch_size, self.dim[1],self.dim[2],5],dtype='float32') #Constant Data\n",
    "    \n",
    "    # y is a one-hot encoded vector.\n",
    "    y = np.empty([self.batch_size,self.dim[1],self.dim[2],1], dtype=np.float32)\n",
    "\n",
    "    # Generate data.\n",
    "\n",
    "    c=0\n",
    "    for i in list_IDs_temp:\n",
    "        \n",
    "        x_daily_file_path = os.path.join(daily_test_path, i)\n",
    "        y_file_path = os.path.join(label_test_path, image_label_map_val.get(i))\n",
    "        \n",
    "        x_constant_file_path = os.path.join(constant_test_path, i)\n",
    "        x_houly_file_path = os.path.join(hourly_test_path, i)\n",
    "        # Load sample \n",
    "        X1[c, :,:,:,:] = np.load(x_houly_file_path)\n",
    "        X2[c, :,:,:,:] = np.load(x_daily_file_path)\n",
    "        X3[c,:,:,:] = np.load(x_constant_file_path)\n",
    "        # Load labels     \n",
    "       \n",
    "        y[c,:,:,:] = np.load(y_file_path)\n",
    "        \n",
    "        c=c+1\n",
    "        \n",
    "    return (X1,X2,X3), y"
   ]
  },
  {
   "cell_type": "code",
   "execution_count": 7,
   "id": "ca03ae84",
   "metadata": {},
   "outputs": [],
   "source": [
    "training_generator = DataGenerator(daily_train_files)\n",
    "validation_generator = ValDataGenerator(daily_test_files)"
   ]
  },
  {
   "cell_type": "code",
   "execution_count": 8,
   "id": "37e811de",
   "metadata": {},
   "outputs": [
    {
     "name": "stdout",
     "output_type": "stream",
     "text": [
      "Label:  (1, 400, 350, 1)\n",
      "Hourly data:  (1, 2, 400, 350, 8)\n",
      "Daily data:  (1, 2, 400, 350, 3)\n",
      "Constant data:  (1, 400, 350, 5)\n"
     ]
    }
   ],
   "source": [
    "a=next(iter(training_generator))[0]# Input. 'a' is a tuple with the lenght og 3. Format: (Hourly, Daily,Constant)\n",
    "b=next(iter(training_generator))[1] #Label\n",
    "print('Label: ',b.shape) # (Batch size, n_rows,n_cols,n_channels)\n",
    "print('Hourly data: ',a[0].shape) # (Batch size, n_rows,n_cols,n_channels)\n",
    "print('Daily data: ',a[1].shape) # (Batch size, n_rows,n_cols,n_channels)\n",
    "print('Constant data: ',a[2].shape) # (Batch size, n_rows,n_cols,n_channels)\n"
   ]
  },
  {
   "cell_type": "markdown",
   "id": "74fadcad",
   "metadata": {},
   "source": [
    "# Loss functions"
   ]
  },
  {
   "cell_type": "code",
   "execution_count": 9,
   "id": "3c5cd90a",
   "metadata": {},
   "outputs": [],
   "source": [
    "def dice_coef(y_true, y_pred, smooth=1):\n",
    "    \"\"\"\n",
    "    Dice = (2*|X & Y|)/ (|X|+ |Y|)\n",
    "         =  2*sum(|A*B|)/(sum(A^2)+sum(B^2))\n",
    "    ref: https://arxiv.org/pdf/1606.04797v1.pdf\n",
    "    \"\"\"\n",
    "    intersection = K.sum(K.abs(y_true * y_pred), axis=-1)\n",
    "    return (2. * intersection + smooth) / (K.sum(K.square(y_true),-1) + K.sum(K.square(y_pred),-1) + smooth)\n",
    "\n",
    "def dice_coef_loss(y_true, y_pred):\n",
    "    return (1-dice_coef(y_true, y_pred))\n",
    "\n",
    "smooth=1\n",
    "def tversky(y_true, y_pred):\n",
    "    y_true_pos = K.flatten(y_true)\n",
    "    y_pred_pos = K.flatten(y_pred)\n",
    "    true_pos = K.sum(y_true_pos * y_pred_pos)\n",
    "    false_neg = K.sum(y_true_pos * (1-y_pred_pos))\n",
    "    false_pos = K.sum((1-y_true_pos)*y_pred_pos)\n",
    "    alpha = 0.7\n",
    "    return (true_pos + smooth)/(true_pos + alpha*false_neg + (1-alpha)*false_pos + smooth)\n",
    "\n",
    "def tversky_loss(y_true, y_pred):\n",
    "    return 1 - tversky(y_true,y_pred)\n",
    "\n",
    "def iou(y_true, y_pred):\n",
    "    intersection = K.sum(y_true * y_pred)\n",
    "    sum_ = K.sum(y_true + y_pred)\n",
    "    jac = (intersection + smooth) / (sum_ - intersection + smooth)\n",
    "    return jac\n",
    "\n",
    "def iou_loss(y_true, y_pred):\n",
    "    return 1-iou(y_true, y_pred)"
   ]
  },
  {
   "cell_type": "markdown",
   "id": "f892edf5",
   "metadata": {},
   "source": [
    "# Hourly block"
   ]
  },
  {
   "cell_type": "code",
   "execution_count": 10,
   "id": "d1820c05",
   "metadata": {},
   "outputs": [],
   "source": [
    "def hourly_model(input_1):\n",
    "    #Hourly Model\n",
    "    \n",
    "    x2 = TimeDistributed(Conv2D(16, (3,3), activation='relu',padding='same'))(input_1)  \n",
    "    x2 = TimeDistributed(MaxPooling2D(pool_size=(2, 2))) (x2) \n",
    "    x2 = TimeDistributed(MaxPooling2D(pool_size=(2, 2))) (x2) \n",
    "    x2 = TimeDistributed(Conv2D(32, (3,3), activation='relu',padding='same')) (x2)\n",
    "    x2 = TimeDistributed(MaxPooling2D(pool_size=(2, 2))) (x2) \n",
    "    x2 = TimeDistributed(MaxPooling2D(pool_size=(2, 2))) (x2) \n",
    "    \n",
    "    x3 = TimeDistributed(Conv2D(32, (3,3),dilation_rate=3, activation='relu',padding='same')) (x2)\n",
    "    x4 = TimeDistributed(Conv2D(32, (3,3),dilation_rate=6, activation='relu',padding='same')) (x2)\n",
    "    x5 = TimeDistributed(Conv2D(32, (3,3),dilation_rate=12, activation='relu',padding='same')) (x2)\n",
    "    x6 = TimeDistributed(Conv2D(32, (3,3),dilation_rate=1, activation='relu',padding='same')) (x2)\n",
    "    \n",
    "    x6=concatenate([x3,x4,x5,x6])\n",
    "    \n",
    "    x2 = TimeDistributed(Conv2D(1, (1,1), activation='relu',padding='same')) (x6)\n",
    "    x2 = TimeDistributed(MaxPooling2D(pool_size=(2, 2))) (x2) \n",
    "    x2 = TimeDistributed(Conv2D(16, (3,3), activation='relu',padding='same')) (x2)\n",
    "    x2 = TimeDistributed(MaxPooling2D(pool_size=(2, 2))) (x2) \n",
    "    x2 = TimeDistributed(Conv2D(32, (3,3), activation='relu',padding='same')) (x2)\n",
    "    x2 = TimeDistributed(MaxPooling2D(pool_size=(2, 2))) (x2) \n",
    "    \n",
    "    x2=TimeDistributed(BatchNormalization())(x2)\n",
    "    \n",
    "    x2 = TimeDistributed(Flatten()) (x2)\n",
    "    \n",
    "    return x2"
   ]
  },
  {
   "cell_type": "markdown",
   "id": "b38b1f32",
   "metadata": {},
   "source": [
    "# Hourly block output"
   ]
  },
  {
   "cell_type": "code",
   "execution_count": 11,
   "id": "3ae7654b",
   "metadata": {},
   "outputs": [
    {
     "data": {
      "text/plain": [
       "TensorShape([None, 2, 192])"
      ]
     },
     "execution_count": 11,
     "metadata": {},
     "output_type": "execute_result"
    }
   ],
   "source": [
    "input_1=Input((2,400,350,8))\n",
    "out1=hourly_model(input_1)\n",
    "out1.shape"
   ]
  },
  {
   "cell_type": "markdown",
   "id": "1124a078",
   "metadata": {},
   "source": [
    "# Daily Block"
   ]
  },
  {
   "cell_type": "code",
   "execution_count": 12,
   "id": "4f401218",
   "metadata": {},
   "outputs": [],
   "source": [
    "def daily_model(input_2):\n",
    "    #Daily Model\n",
    "    \n",
    "    x2 = TimeDistributed(Conv2D(16, (3,3), activation='relu',padding='same'))(input_2)  \n",
    "    x2 = TimeDistributed(MaxPooling2D(pool_size=(2, 2))) (x2) \n",
    "    x2 = TimeDistributed(MaxPooling2D(pool_size=(2, 2))) (x2) \n",
    "    x2 = TimeDistributed(Conv2D(32, (3,3), activation='relu',padding='same')) (x2)\n",
    "    x2 = TimeDistributed(MaxPooling2D(pool_size=(2, 2))) (x2) \n",
    "    x2 = TimeDistributed(MaxPooling2D(pool_size=(2, 2))) (x2) \n",
    "    \n",
    "    x3 = TimeDistributed(Conv2D(32, (3,3),dilation_rate=3, activation='relu',padding='same')) (x2)\n",
    "    x4 = TimeDistributed(Conv2D(32, (3,3),dilation_rate=6, activation='relu',padding='same')) (x2)\n",
    "    x5 = TimeDistributed(Conv2D(32, (3,3),dilation_rate=12, activation='relu',padding='same')) (x2)\n",
    "    x6 = TimeDistributed(Conv2D(32, (3,3),dilation_rate=1, activation='relu',padding='same')) (x2)\n",
    "    \n",
    "    x6=concatenate([x3,x4,x5,x6])\n",
    "    x2 = TimeDistributed(Conv2D(1, (1,1), activation='relu',padding='same')) (x6)\n",
    "    x2 = TimeDistributed(MaxPooling2D(pool_size=(2, 2))) (x2) \n",
    "    x2 = TimeDistributed(Conv2D(16, (3,3), activation='relu',padding='same')) (x2)\n",
    "    x2 = TimeDistributed(MaxPooling2D(pool_size=(2, 2))) (x2) \n",
    "    x2 = TimeDistributed(Conv2D(32, (3,3), activation='relu',padding='same')) (x2)\n",
    "    x2 = TimeDistributed(MaxPooling2D(pool_size=(2, 2))) (x2) \n",
    "    \n",
    "    x2=TimeDistributed(BatchNormalization())(x2)\n",
    "    \n",
    "    x2 = TimeDistributed(Flatten()) (x2)\n",
    "    \n",
    "    return x2"
   ]
  },
  {
   "cell_type": "markdown",
   "id": "2ee35339",
   "metadata": {},
   "source": [
    "# Daily block output"
   ]
  },
  {
   "cell_type": "code",
   "execution_count": 13,
   "id": "32e9a2ae",
   "metadata": {},
   "outputs": [
    {
     "data": {
      "text/plain": [
       "TensorShape([None, 2, 192])"
      ]
     },
     "execution_count": 13,
     "metadata": {},
     "output_type": "execute_result"
    }
   ],
   "source": [
    "input_2=Input((2,400,350,3))\n",
    "out2=daily_model(input_2)\n",
    "out2.shape"
   ]
  },
  {
   "cell_type": "markdown",
   "id": "535211b3",
   "metadata": {},
   "source": [
    "# Constant Block"
   ]
  },
  {
   "cell_type": "code",
   "execution_count": 14,
   "id": "3dafc92f",
   "metadata": {},
   "outputs": [],
   "source": [
    "def constant_model(input_3):\n",
    "    \n",
    "    x2 = Conv2D(16, (3,3), activation='relu',padding='same')(input_3)   \n",
    "    x2=MaxPooling2D(pool_size=(2, 2)) (x2) \n",
    "    x2=MaxPooling2D(pool_size=(2, 2)) (x2) \n",
    "    x2 = Conv2D(32, (3,3), activation='relu',padding='same') (x2)\n",
    "    x2=MaxPooling2D(pool_size=(2, 2)) (x2) \n",
    "    x2=MaxPooling2D(pool_size=(2, 2)) (x2) \n",
    "    \n",
    "    x3 = Conv2D(32, (3,3),dilation_rate=3, activation='relu',padding='same') (x2)\n",
    "    x4 = Conv2D(32, (3,3),dilation_rate=6, activation='relu',padding='same') (x2)\n",
    "    x5 = Conv2D(32, (3,3),dilation_rate=12, activation='relu',padding='same') (x2)\n",
    "    x6 = Conv2D(32, (3,3),dilation_rate=1, activation='relu',padding='same') (x2)\n",
    "    \n",
    "    x6=concatenate([x3,x4,x5,x6])\n",
    "    x2 = Conv2D(1, (1,1), activation='relu',padding='same') (x2)\n",
    "    x2 = MaxPooling2D(pool_size=(2, 2)) (x2) \n",
    "    x2 = Conv2D(16, (3,3), activation='relu',padding='same') (x2)\n",
    "    x2 = MaxPooling2D(pool_size=(2, 2)) (x2) \n",
    "    x2 = Conv2D(32, (3,3), activation='relu',padding='same') (x2)\n",
    "    x2 = MaxPooling2D(pool_size=(2, 2)) (x2) \n",
    "    \n",
    "    x2=BatchNormalization()(x2)\n",
    "    \n",
    "    x2 = Flatten() (x2)\n",
    "    \n",
    "    return x2\n"
   ]
  },
  {
   "cell_type": "markdown",
   "id": "4f4d4daa",
   "metadata": {},
   "source": [
    "# Constant block output"
   ]
  },
  {
   "cell_type": "code",
   "execution_count": 15,
   "id": "97cb682c",
   "metadata": {},
   "outputs": [
    {
     "data": {
      "text/plain": [
       "TensorShape([None, 192])"
      ]
     },
     "execution_count": 15,
     "metadata": {},
     "output_type": "execute_result"
    }
   ],
   "source": [
    "input_3=Input((400,350,5))\n",
    "out3=constant_model(input_3)\n",
    "out3.shape"
   ]
  },
  {
   "cell_type": "markdown",
   "id": "3c368cd5",
   "metadata": {},
   "source": [
    "# Combination (FirePred model)"
   ]
  },
  {
   "cell_type": "code",
   "execution_count": 16,
   "id": "5cab1970",
   "metadata": {},
   "outputs": [
    {
     "name": "stdout",
     "output_type": "stream",
     "text": [
      "Model: \"model\"\n",
      "__________________________________________________________________________________________________\n",
      "Layer (type)                    Output Shape         Param #     Connected to                     \n",
      "==================================================================================================\n",
      "input_4 (InputLayer)            [(None, 2, 400, 350, 0                                            \n",
      "__________________________________________________________________________________________________\n",
      "time_distributed_36 (TimeDistri (None, 2, 400, 350,  1168        input_4[0][0]                    \n",
      "__________________________________________________________________________________________________\n",
      "input_5 (InputLayer)            [(None, 2, 400, 350, 0                                            \n",
      "__________________________________________________________________________________________________\n",
      "time_distributed_37 (TimeDistri (None, 2, 200, 175,  0           time_distributed_36[0][0]        \n",
      "__________________________________________________________________________________________________\n",
      "time_distributed_54 (TimeDistri (None, 2, 400, 350,  448         input_5[0][0]                    \n",
      "__________________________________________________________________________________________________\n",
      "time_distributed_38 (TimeDistri (None, 2, 100, 87, 1 0           time_distributed_37[0][0]        \n",
      "__________________________________________________________________________________________________\n",
      "time_distributed_55 (TimeDistri (None, 2, 200, 175,  0           time_distributed_54[0][0]        \n",
      "__________________________________________________________________________________________________\n",
      "time_distributed_39 (TimeDistri (None, 2, 100, 87, 3 4640        time_distributed_38[0][0]        \n",
      "__________________________________________________________________________________________________\n",
      "time_distributed_56 (TimeDistri (None, 2, 100, 87, 1 0           time_distributed_55[0][0]        \n",
      "__________________________________________________________________________________________________\n",
      "time_distributed_40 (TimeDistri (None, 2, 50, 43, 32 0           time_distributed_39[0][0]        \n",
      "__________________________________________________________________________________________________\n",
      "time_distributed_57 (TimeDistri (None, 2, 100, 87, 3 4640        time_distributed_56[0][0]        \n",
      "__________________________________________________________________________________________________\n",
      "time_distributed_41 (TimeDistri (None, 2, 25, 21, 32 0           time_distributed_40[0][0]        \n",
      "__________________________________________________________________________________________________\n",
      "time_distributed_58 (TimeDistri (None, 2, 50, 43, 32 0           time_distributed_57[0][0]        \n",
      "__________________________________________________________________________________________________\n",
      "time_distributed_42 (TimeDistri (None, 2, 25, 21, 32 9248        time_distributed_41[0][0]        \n",
      "__________________________________________________________________________________________________\n",
      "time_distributed_43 (TimeDistri (None, 2, 25, 21, 32 9248        time_distributed_41[0][0]        \n",
      "__________________________________________________________________________________________________\n",
      "time_distributed_44 (TimeDistri (None, 2, 25, 21, 32 9248        time_distributed_41[0][0]        \n",
      "__________________________________________________________________________________________________\n",
      "time_distributed_45 (TimeDistri (None, 2, 25, 21, 32 9248        time_distributed_41[0][0]        \n",
      "__________________________________________________________________________________________________\n",
      "time_distributed_59 (TimeDistri (None, 2, 25, 21, 32 0           time_distributed_58[0][0]        \n",
      "__________________________________________________________________________________________________\n",
      "concatenate_3 (Concatenate)     (None, 2, 25, 21, 12 0           time_distributed_42[0][0]        \n",
      "                                                                 time_distributed_43[0][0]        \n",
      "                                                                 time_distributed_44[0][0]        \n",
      "                                                                 time_distributed_45[0][0]        \n",
      "__________________________________________________________________________________________________\n",
      "time_distributed_60 (TimeDistri (None, 2, 25, 21, 32 9248        time_distributed_59[0][0]        \n",
      "__________________________________________________________________________________________________\n",
      "time_distributed_61 (TimeDistri (None, 2, 25, 21, 32 9248        time_distributed_59[0][0]        \n",
      "__________________________________________________________________________________________________\n",
      "time_distributed_62 (TimeDistri (None, 2, 25, 21, 32 9248        time_distributed_59[0][0]        \n",
      "__________________________________________________________________________________________________\n",
      "time_distributed_63 (TimeDistri (None, 2, 25, 21, 32 9248        time_distributed_59[0][0]        \n",
      "__________________________________________________________________________________________________\n",
      "time_distributed_46 (TimeDistri (None, 2, 25, 21, 1) 129         concatenate_3[0][0]              \n",
      "__________________________________________________________________________________________________\n",
      "concatenate_4 (Concatenate)     (None, 2, 25, 21, 12 0           time_distributed_60[0][0]        \n",
      "                                                                 time_distributed_61[0][0]        \n",
      "                                                                 time_distributed_62[0][0]        \n",
      "                                                                 time_distributed_63[0][0]        \n",
      "__________________________________________________________________________________________________\n",
      "time_distributed_47 (TimeDistri (None, 2, 12, 10, 1) 0           time_distributed_46[0][0]        \n",
      "__________________________________________________________________________________________________\n",
      "time_distributed_64 (TimeDistri (None, 2, 25, 21, 1) 129         concatenate_4[0][0]              \n",
      "__________________________________________________________________________________________________\n",
      "time_distributed_48 (TimeDistri (None, 2, 12, 10, 16 160         time_distributed_47[0][0]        \n",
      "__________________________________________________________________________________________________\n",
      "time_distributed_65 (TimeDistri (None, 2, 12, 10, 1) 0           time_distributed_64[0][0]        \n",
      "__________________________________________________________________________________________________\n",
      "time_distributed_49 (TimeDistri (None, 2, 6, 5, 16)  0           time_distributed_48[0][0]        \n",
      "__________________________________________________________________________________________________\n",
      "time_distributed_66 (TimeDistri (None, 2, 12, 10, 16 160         time_distributed_65[0][0]        \n",
      "__________________________________________________________________________________________________\n",
      "time_distributed_50 (TimeDistri (None, 2, 6, 5, 32)  4640        time_distributed_49[0][0]        \n",
      "__________________________________________________________________________________________________\n",
      "time_distributed_67 (TimeDistri (None, 2, 6, 5, 16)  0           time_distributed_66[0][0]        \n",
      "__________________________________________________________________________________________________\n",
      "time_distributed_51 (TimeDistri (None, 2, 3, 2, 32)  0           time_distributed_50[0][0]        \n",
      "__________________________________________________________________________________________________\n",
      "time_distributed_68 (TimeDistri (None, 2, 6, 5, 32)  4640        time_distributed_67[0][0]        \n",
      "__________________________________________________________________________________________________\n",
      "time_distributed_52 (TimeDistri (None, 2, 3, 2, 32)  128         time_distributed_51[0][0]        \n",
      "__________________________________________________________________________________________________\n",
      "time_distributed_69 (TimeDistri (None, 2, 3, 2, 32)  0           time_distributed_68[0][0]        \n",
      "__________________________________________________________________________________________________\n",
      "time_distributed_53 (TimeDistri (None, 2, 192)       0           time_distributed_52[0][0]        \n",
      "__________________________________________________________________________________________________\n",
      "time_distributed_70 (TimeDistri (None, 2, 3, 2, 32)  128         time_distributed_69[0][0]        \n",
      "__________________________________________________________________________________________________\n",
      "simple_rnn (SimpleRNN)          (None, 2, 64)        16448       time_distributed_53[0][0]        \n",
      "__________________________________________________________________________________________________\n",
      "time_distributed_71 (TimeDistri (None, 2, 192)       0           time_distributed_70[0][0]        \n",
      "__________________________________________________________________________________________________\n",
      "simple_rnn_1 (SimpleRNN)        (None, 32)           3104        simple_rnn[0][0]                 \n",
      "__________________________________________________________________________________________________\n",
      "simple_rnn_2 (SimpleRNN)        (None, 2, 64)        16448       time_distributed_71[0][0]        \n",
      "__________________________________________________________________________________________________\n",
      "simple_rnn_3 (SimpleRNN)        (None, 32)           3104        simple_rnn_2[0][0]               \n",
      "__________________________________________________________________________________________________\n",
      "dense_1 (Dense)                 (None, 32)           1056        simple_rnn_1[0][0]               \n",
      "__________________________________________________________________________________________________\n",
      "concatenate_6 (Concatenate)     (None, 96)           0           simple_rnn_1[0][0]               \n",
      "                                                                 simple_rnn_3[0][0]               \n",
      "                                                                 dense_1[0][0]                    \n",
      "__________________________________________________________________________________________________\n",
      "dense_2 (Dense)                 (None, 128)          12416       concatenate_6[0][0]              \n",
      "__________________________________________________________________________________________________\n",
      "dropout (Dropout)               (None, 128)          0           dense_2[0][0]                    \n",
      "__________________________________________________________________________________________________\n",
      "dense_3 (Dense)                 (None, 140000)       18060000    dropout[0][0]                    \n",
      "__________________________________________________________________________________________________\n",
      "input_6 (InputLayer)            [(None, 400, 350, 5) 0                                            \n",
      "__________________________________________________________________________________________________\n",
      "reshape (Reshape)               (None, 400, 350, 1)  0           dense_3[0][0]                    \n",
      "==================================================================================================\n",
      "Total params: 18,207,570\n",
      "Trainable params: 18,207,442\n",
      "Non-trainable params: 128\n",
      "__________________________________________________________________________________________________\n"
     ]
    }
   ],
   "source": [
    "def Model_(input_shape1,input_shape2,input_shape3):\n",
    "    \n",
    "    #Get Inputs\n",
    "    input_1=Input(input_shape1)\n",
    "    input_2=Input(input_shape2)\n",
    "    input_3=Input(input_shape3)\n",
    "    \n",
    "    # Hourly features\n",
    "    out1=hourly_model(input_1)\n",
    "    # Daily Features\n",
    "    out2=daily_model(input_2)\n",
    "    #Constatnt Features\n",
    "    out3=constant_model(input_3)\n",
    "    \n",
    "    #################################################\n",
    "    out1=SimpleRNN(64,return_sequences=True,activation='relu') (out1)\n",
    "    out1=SimpleRNN(32,return_sequences=False,activation='relu') (out1)\n",
    "    \n",
    "    out2=SimpleRNN(64,return_sequences=True,activation='relu') (out2)\n",
    "    out2=SimpleRNN(32,return_sequences=False,activation='relu') (out2)\n",
    "    \n",
    "    out3=Dense(64,activation='relu') (out1)\n",
    "    out3=Dense(32,activation='relu') (out1)\n",
    "    \n",
    "    x = concatenate([out1,out2,out3])\n",
    "    \n",
    "    x = Dense(128,activation='relu') (x)\n",
    "    x = Dropout(0.4)(x)\n",
    "    x = Dense(140000, activation='sigmoid') (x)  \n",
    "    output = tf.keras.layers.Reshape((400,350,1)) (x)\n",
    "    return Model(inputs=(input_1,input_2,input_3),outputs=output)\n",
    "    ################################################\n",
    "    \n",
    "    \n",
    "inp1=(2,400,350,8)\n",
    "inp2=(2,400,350,3)\n",
    "inp3=(400,350,5)\n",
    "    \n",
    "model=Model_(inp1,inp2,inp3)\n",
    "model.summary()    "
   ]
  },
  {
   "cell_type": "code",
   "execution_count": 44,
   "id": "acdda164",
   "metadata": {},
   "outputs": [],
   "source": [
    "learning_rate = 0.0005\n",
    "decay_rate = learning_rate / 200\n",
    "\n",
    "loss_binary_=tf.keras.losses.BinaryCrossentropy()\n",
    "\n",
    "\n",
    "optimizer = tf.keras.optimizers.Adam(lr=learning_rate,beta_1=0.9, beta_2=0.999, epsilon=None, decay=decay_rate, amsgrad=False)\n",
    "\n",
    "model.compile(loss=loss_binary_, optimizer=optimizer, metrics=[iou]) \n",
    "early_stopping = keras.callbacks.EarlyStopping(monitor=\"val_jac_distance\", patience=25)\n",
    "reduce_lr = keras.callbacks.ReduceLROnPlateau(monitor=\"val_loss\", patience=25)\n",
    "\n",
    "model_path_save='F:/Researches/Forest Fire Researche/temporal/Model2.h5'\n",
    "chek_point = ModelCheckpoint(model_path_save, verbose=1, save_best_only=True)    \n",
    "callbacks=[chek_point,early_stopping,reduce_lr]"
   ]
  },
  {
   "cell_type": "code",
   "execution_count": null,
   "id": "d25e8bb9",
   "metadata": {},
   "outputs": [],
   "source": [
    "hst = model.fit(training_generator,epochs=200,validation_data=validation_generator,callbacks=callbacks)"
   ]
  },
  {
   "cell_type": "code",
   "execution_count": 46,
   "id": "62ca1edd",
   "metadata": {},
   "outputs": [],
   "source": []
  },
  {
   "cell_type": "code",
   "execution_count": null,
   "id": "52f21bc4",
   "metadata": {},
   "outputs": [],
   "source": []
  },
  {
   "cell_type": "code",
   "execution_count": null,
   "id": "6e772c58",
   "metadata": {},
   "outputs": [],
   "source": []
  },
  {
   "cell_type": "code",
   "execution_count": null,
   "id": "77d0eabb",
   "metadata": {},
   "outputs": [],
   "source": []
  },
  {
   "cell_type": "code",
   "execution_count": null,
   "id": "e646b866",
   "metadata": {},
   "outputs": [],
   "source": []
  },
  {
   "cell_type": "code",
   "execution_count": null,
   "id": "3f440f5b",
   "metadata": {},
   "outputs": [],
   "source": []
  },
  {
   "cell_type": "code",
   "execution_count": null,
   "id": "ed30ede0",
   "metadata": {},
   "outputs": [],
   "source": []
  },
  {
   "cell_type": "code",
   "execution_count": null,
   "id": "a64b669b",
   "metadata": {},
   "outputs": [],
   "source": []
  }
 ],
 "metadata": {
  "kernelspec": {
   "display_name": "tensorflow",
   "language": "python",
   "name": "tensorflow"
  },
  "language_info": {
   "codemirror_mode": {
    "name": "ipython",
    "version": 3
   },
   "file_extension": ".py",
   "mimetype": "text/x-python",
   "name": "python",
   "nbconvert_exporter": "python",
   "pygments_lexer": "ipython3",
   "version": "3.9.16"
  }
 },
 "nbformat": 4,
 "nbformat_minor": 5
}
